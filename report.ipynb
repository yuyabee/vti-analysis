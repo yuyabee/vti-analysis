{
 "cells": [
  {
   "cell_type": "markdown",
   "metadata": {},
   "source": [
    "## On which weekday should we purchace VTI (Vanguard Total Stock Market ETF)?\n",
    "\n",
    "For each weekday defined by weekday 0 = Monday, ..., weekday 4 = Friday, compare the average prices of VTI and find out on which day we should purchase index funds if we want to avoid checking its price frequently or potentially for automation. "
   ]
  },
  {
   "cell_type": "markdown",
   "metadata": {},
   "source": [
    "### Sampling:\n",
    "1. Collect data of 30 weeks (30 Mondays, Tuesdays, Wednessday, Thursdays and Fridays) assuming that there is no bias and then apply test statistics to see what we get.  \n",
    "\n",
    "2. Based on the assumption that election results affect the stock market a lot, use data prior to the democrat's primary election and then apply test statistics to see what I get (~ Jan 31st, 2020).\n",
    "\n",
    "3. The news of coronavirus might have a huge effect on the stock prices as well so if that seems to be the case, I will think about a way to mitigate its effect: probably by using the data from last year (~ Nov 29th, 2019).\n",
    "\n",
    "**To make the sample unbiased, I will remove weeks that include holidays during the week, because, for example, if Monday is a holiday, then Tuesday might kind of function as Monday and this can be considered as a bias in the sample.**\n",
    "\n",
    "Since taking average is difficult given the availability of data, define average in two ways:\n",
    "1. The (max + min) / 2\n",
    "2. Closing value**"
   ]
  },
  {
   "cell_type": "code",
   "execution_count": 1,
   "metadata": {},
   "outputs": [],
   "source": [
    "import pandas as pd\n",
    "from scipy.stats import f\n",
    "from statistics import variance"
   ]
  },
  {
   "cell_type": "code",
   "execution_count": 2,
   "metadata": {},
   "outputs": [],
   "source": [
    "# utility functions\n",
    "\n",
    "def days(year: int, month: int):\n",
    "    days = [31, 28, 31, 30, 31, 30, 31, 31, 30, 31, 30, 31]\n",
    "\n",
    "    if year % 4 == 0 and month == 2:\n",
    "        return 29\n",
    "    else:\n",
    "        return days[month - 1]\n",
    "\n",
    "def eval_date(date: str):\n",
    "    return list(map(int, date.split(\"-\")))\n",
    "\n",
    "def is_sequence(dates):\n",
    "    n = dates[0][2]\n",
    "    for i in range(4):\n",
    "        c_date = dates[i]\n",
    "        if c_date[2] != n:\n",
    "            return False\n",
    "        if c_date[2] == 1:\n",
    "            month, year = 0, 0\n",
    "            if c_date[1] != 1:\n",
    "                month = c_date[1] - 1\n",
    "                year = c_date[0]\n",
    "            else:\n",
    "                month = 12\n",
    "                year = c_date[0] - 1\n",
    "            n = days(year, month)\n",
    "        else:\n",
    "            n = c_date[2] - 1\n",
    "            \n",
    "    return dates[4][2] == n\n",
    "\n",
    "def collect_data(mem, vals):\n",
    "    [f, h, w, t, m] = vals\n",
    "    mem[0].append(m)\n",
    "    mem[1].append(t)\n",
    "    mem[2].append(w)\n",
    "    mem[3].append(h)\n",
    "    mem[4].append(f)\n",
    "    return mem\n",
    "\n",
    "def avg(lst):\n",
    "    return list(map(lambda x : sum(x) / len(x), lst))\n",
    "\n",
    "def get_high_and_low(data):\n",
    "    return list(map(lambda weekday : list(map(lambda x : (x[2] + x[3]) / 2, weekday)), data))\n",
    "\n",
    "def get_close(data):\n",
    "    return list(map(lambda weekday : list(map(lambda x : x[4], weekday)), data))\n",
    "\n",
    "def get_diff_open_and_close(data):\n",
    "    return list(map(lambda weekday : list(map(lambda x : x[4] - x[1], weekday)), data))\n",
    "\n",
    "def get_diff_high_and_low(data):\n",
    "    return list(map(lambda weekday : list(map(lambda x : x[2] - x[3], weekday)), data))\n",
    "\n",
    "def sst(avgs, n):\n",
    "    avg = sum(avgs) / len(avgs)\n",
    "    res = 0\n",
    "    for i in range(len(avgs)):\n",
    "        res += n * ((avgs[i] - avg) ** 2)\n",
    "    return res\n",
    "\n",
    "def s_squares(lst):\n",
    "    res = []\n",
    "    for i in range(len(lst)):\n",
    "        s = 0\n",
    "        avg = sum(lst[i]) / len(lst[i])\n",
    "        for j in range(len(lst[i])):\n",
    "            s += (lst[i][j] - avg) ** 2\n",
    "        res.append(s / (len(lst[i]) - 1))\n",
    "    return res\n",
    "\n",
    "def sse(lst):\n",
    "    ss = s_squares(lst)\n",
    "    res = 0\n",
    "    for i in range(len(ss)):\n",
    "        res += (len(lst[0]) - 1) * ss[i]\n",
    "    return res\n",
    "\n",
    "def mst(avgs, n):\n",
    "    return sst(avgs, n) / (len(avgs) - 1)\n",
    "\n",
    "def mse(lst):\n",
    "    return sse(lst) / ((len(lst) * len(lst[0])) - 1)\n",
    "\n",
    "def test_stat(lst, avgs):\n",
    "    return mst(avgs, len(lst) * len(lst[0])) / mse(lst)\n",
    "\n",
    "def test_many_cases(data):\n",
    "    funcs = [[\"(high + low) / 2\", get_high_and_low], [\"close\", get_close], [\"close - open\", get_diff_open_and_close], [\"high - low\", get_diff_high_and_low]]\n",
    "    \n",
    "    for i in range(len(funcs)):\n",
    "        print(funcs[i][0])\n",
    "        print(\"Average: \", avg(funcs[i][1](data)))\n",
    "        variances = list(map(variance, funcs[i][1](data)))\n",
    "        print(\"Variances: \", variances)\n",
    "        if max(variances) / min(variances) < 2:\n",
    "              t = test_stat(funcs[i][1](data), avg(funcs[i][1](data)))\n",
    "              print(\"test-stat: \", t)\n",
    "              print(\"p-value: \", 1 - f.cdf(t, len(data) - 1, (len(data[0]) - 1) * len(data)))\n",
    "        else:\n",
    "              print(\"test-stat cannot be applied because variances differ: max(v) / min(v) = \", max(variances) / min(variances))\n",
    "        print(\"\\n\")"
   ]
  },
  {
   "cell_type": "markdown",
   "metadata": {},
   "source": [
    "### Hypothesis 1:\n",
    "Let u0 = Average price of VTI on Mondays, u1 = Average price of VTI on Tuesdays, …).\n",
    "1. H0: u0 = u1 = u2 = u3 = u4\n",
    "2. H1: u's are different"
   ]
  },
  {
   "cell_type": "markdown",
   "metadata": {},
   "source": [
    "## Sample 1:\n",
    "30 weeks (30 Mondays, Tuesdays, Wednessday, Thursdays and Fridays) until 3/6/2020"
   ]
  },
  {
   "cell_type": "code",
   "execution_count": 3,
   "metadata": {
    "scrolled": false
   },
   "outputs": [
    {
     "name": "stdout",
     "output_type": "stream",
     "text": [
      "(high + low) / 2\n",
      "Average:  [155.02403233870967, 155.06080680645158, 154.90177466129032, 155.13129006451612, 155.2137091451613]\n",
      "Variances:  [43.825655292095476, 46.62960107620783, 51.56901071277273, 49.91665175676533, 50.610877631157386]\n",
      "test-stat:  0.044973023067741605\n",
      "p-value:  0.9961446381354158\n",
      "\n",
      "\n",
      "close\n",
      "Average:  [155.02387161290324, 154.92741935483875, 155.00677490322582, 155.25354883870963, 155.28096796774193]\n",
      "Variances:  [45.482832168320115, 46.50371481696203, 51.229755725390376, 50.49634643995754, 49.82995320782326]\n",
      "test-stat:  0.08215510074788068\n",
      "p-value:  0.9877652493165315\n",
      "\n",
      "\n",
      "close - open\n",
      "Average:  [-0.009998516129031495, -0.29709690322580457, 0.03032267741935544, 0.07064612903225738, -0.05645122580645351]\n",
      "Variances:  [0.5317120387042581, 2.0092355157928115, 0.864710758431361, 0.994510747301108, 1.5722591557770513]\n",
      "test-stat cannot be applied because variances differ: max(v) / min(v) =  3.778803881682209\n",
      "\n",
      "\n",
      "high - low\n",
      "Average:  [1.0829049354838738, 1.514515548387096, 1.39387158064516, 1.4387099354838728, 1.465483709677421]\n",
      "Variances:  [0.4048486607684645, 1.3832388055159877, 0.6964247259279898, 1.2443694329585366, 1.2033131139343527]\n",
      "test-stat cannot be applied because variances differ: max(v) / min(v) =  3.416681193635146\n",
      "\n",
      "\n"
     ]
    }
   ],
   "source": [
    "vtis = pd.read_csv('VTI.csv', usecols=['Date','Open','High','Low','Close'])\n",
    "vtis['Date'] = vtis['Date'].apply(eval_date)\n",
    "vtis = vtis.iloc[::-1]\n",
    "\n",
    "data = [[], [], [], [], []]\n",
    "\n",
    "# remove weeks with holidays\n",
    "while len(data[0]) < 31:\n",
    "    if is_sequence(list(vtis.head(5)['Date'])):\n",
    "        data = collect_data(data, vtis.head(5).values)\n",
    "        vtis = vtis[5:]\n",
    "    else:\n",
    "        vtis = vtis[1:]\n",
    "\n",
    "test_many_cases(data)"
   ]
  },
  {
   "cell_type": "markdown",
   "metadata": {},
   "source": [
    "## Sample 2:\n",
    "30 weeks prior to the democrat's primary (~ Jan 31st, 2020)."
   ]
  },
  {
   "cell_type": "code",
   "execution_count": 4,
   "metadata": {},
   "outputs": [
    {
     "name": "stdout",
     "output_type": "stream",
     "text": [
      "(high + low) / 2\n",
      "Average:  [152.80290343548387, 152.9258066451613, 152.82048466129035, 153.2332259032258, 153.60112833870966]\n",
      "Variances:  [39.67090997823979, 38.12646063647739, 40.60356900995158, 40.15541391984273, 39.64941255425462]\n",
      "test-stat:  0.4645653956758006\n",
      "p-value:  0.7616530050069177\n",
      "\n",
      "\n",
      "close\n",
      "Average:  [152.77225861290322, 152.92806464516127, 152.99419429032255, 153.46064554838708, 153.56354841935482]\n",
      "Variances:  [41.19362058464169, 38.24846942156602, 39.826459356873215, 40.406250598729, 39.94836513036147]\n",
      "test-stat:  0.48183508600806924\n",
      "p-value:  0.7490410819810378\n",
      "\n",
      "\n",
      "close - open\n",
      "Average:  [-0.11709503225806327, -0.018064419354838112, 0.13709729032258208, 0.19774199999999786, -0.16129000000000357]\n",
      "Variances:  [0.4406802032420321, 1.1218864660077132, 0.8597632527800159, 0.5707257628464681, 1.0294595544648024]\n",
      "test-stat cannot be applied because variances differ: max(v) / min(v) =  2.545806364239027\n",
      "\n",
      "\n",
      "high - low\n",
      "Average:  [1.060646806451616, 1.3761287741935508, 1.359678096774192, 1.3277425806451633, 1.371935516129034]\n",
      "Variances:  [0.37556035240696406, 0.5205126254298498, 0.5154771702918265, 0.479841218890724, 0.6900790742740691]\n",
      "test-stat:  5.593339756936002\n",
      "p-value:  0.00031796055436794646\n",
      "\n",
      "\n"
     ]
    }
   ],
   "source": [
    "vtis = pd.read_csv('VTI.csv', usecols=['Date','Open','High','Low','Close'])\n",
    "vtis['Date'] = vtis['Date'].apply(eval_date)\n",
    "vtis = vtis.iloc[::-1]\n",
    "\n",
    "while list(vtis.head(1)['Date']) != [[2020, 1, 31]]:\n",
    "    vtis = vtis[1:]\n",
    "\n",
    "data = [[], [], [], [], []]\n",
    "\n",
    "# remove weeks with holidays\n",
    "while len(data[0]) < 31:\n",
    "    if is_sequence(list(vtis.head(5)['Date'])):\n",
    "        data = collect_data(data, vtis.head(5).values)\n",
    "        vtis = vtis[5:]\n",
    "    else:\n",
    "        vtis = vtis[1:]\n",
    "        \n",
    "test_many_cases(data)"
   ]
  },
  {
   "cell_type": "markdown",
   "metadata": {},
   "source": [
    "## Sample 3:\n",
    "Before the outbreak of coronavirus (~ Nov 29th, 2019)."
   ]
  },
  {
   "cell_type": "code",
   "execution_count": 5,
   "metadata": {},
   "outputs": [
    {
     "name": "stdout",
     "output_type": "stream",
     "text": [
      "(high + low) / 2\n",
      "Average:  [149.81790308064518, 149.9532257096774, 149.77790401612904, 150.01854875806455, 150.43145137096778]\n",
      "Variances:  [16.931249039036054, 14.858369919633395, 14.288290148257177, 14.477240424703208, 13.17663875764789]\n",
      "test-stat:  0.731567979926648\n",
      "p-value:  0.571755714891763\n",
      "\n",
      "\n",
      "close\n",
      "Average:  [149.84677467741935, 149.97096745161292, 149.91548499999996, 150.21580645161296, 150.52935499999998]\n",
      "Variances:  [17.460999202554618, 14.607412993522578, 14.745870631949781, 13.317518937310851, 13.841963317458005]\n",
      "test-stat:  0.8402683785194143\n",
      "p-value:  0.5016745729982786\n",
      "\n",
      "\n",
      "close - open\n",
      "Average:  [-0.02257909677419159, -0.05032248387096714, 0.04483919354838819, 0.09129077419354674, 0.04870941935483632]\n",
      "Variances:  [0.4087385679069576, 1.1938466585646508, 0.9286927316419612, 0.4765723957369795, 0.8892132962493878]\n",
      "test-stat cannot be applied because variances differ: max(v) / min(v) =  2.9208074605683154\n",
      "\n",
      "\n",
      "high - low\n",
      "Average:  [1.031936161290324, 1.4535478709677423, 1.4067740967741906, 1.3448388064516135, 1.3725808064516147]\n",
      "Variances:  [0.3954225763644745, 0.535299673064654, 0.5169630493716261, 0.4476822868544965, 0.699535571455571]\n",
      "test-stat:  8.563205180923461\n",
      "p-value:  2.9868225613904897e-06\n",
      "\n",
      "\n"
     ]
    }
   ],
   "source": [
    "vtis = pd.read_csv('VTI.csv', usecols=['Date','Open','High','Low','Close'])\n",
    "vtis['Date'] = vtis['Date'].apply(eval_date)\n",
    "vtis = vtis.iloc[::-1]\n",
    "\n",
    "while list(vtis.head(1)['Date']) != [[2019, 11, 29]]:\n",
    "    vtis = vtis[1:]\n",
    "\n",
    "data = [[], [], [], [], []]\n",
    "\n",
    "# remove weeks with holidays\n",
    "while len(data[0]) < 31:\n",
    "    if is_sequence(list(vtis.head(5)['Date'])):\n",
    "        data = collect_data(data, vtis.head(5).values)\n",
    "        vtis = vtis[5:]\n",
    "    else:\n",
    "        vtis = vtis[1:]\n",
    "        \n",
    "test_many_cases(data)"
   ]
  },
  {
   "cell_type": "markdown",
   "metadata": {},
   "source": [
    "### Hypothesis 2\n",
    "However, there might always huge narrative in our society that affect the stock market significantly, so maybe it is good to not remove those factors.\n",
    "Indeed, this is yet another hypothesis to be tested by comparing the results I get by trying to eliminate a particular potential factor.\n",
    "**if there is no significant difference between data collected by removing a factor A vs. the data collected by removing a factor B then we can conclude that on which day to buy VTI is not affected by a dominant narrative created by breaking news.**"
   ]
  },
  {
   "cell_type": "code",
   "execution_count": 6,
   "metadata": {},
   "outputs": [
    {
     "name": "stdout",
     "output_type": "stream",
     "text": [
      "(high + low) / 2\n",
      "Average:  [94.36944111876245, 94.40893207684637, 94.45311386427153, 94.43399212175652, 94.51512969560882]\n",
      "Variances:  [1111.6064191031107, 1112.9569566594628, 1115.0965867269008, 1120.7000723723927, 1121.2129936227484]\n",
      "test-stat:  0.006586036026860385\n",
      "p-value:  0.9999139387191973\n",
      "\n",
      "\n",
      "close\n",
      "Average:  [94.3750498962076, 94.45872260079847, 94.47321382634719, 94.524690720559, 94.56243520758484]\n",
      "Variances:  [1112.5247259735115, 1113.3642018009546, 1117.02548992271, 1120.1469742893419, 1120.4717884614304]\n",
      "test-stat:  0.011402019336268387\n",
      "p-value:  0.9997437085168427\n",
      "\n",
      "\n",
      "close - open\n",
      "Average:  [-0.06532915768463016, 0.033872241516965475, -0.021317103792414808, 0.007305674650698315, 0.007205604790419191]\n",
      "Variances:  [0.5252457355305848, 0.5906570159290478, 0.6097876363430366, 0.614010401264952, 0.47165821491100807]\n",
      "test-stat:  6.338801043039896\n",
      "p-value:  4.5068139671866625e-05\n",
      "\n",
      "\n",
      "high - low\n",
      "Average:  [0.9627944690618766, 1.0092813632734527, 1.0468663313373252, 1.1380438722554889, 0.9764870558882242]\n",
      "Variances:  [0.558035953417362, 0.44523918442022276, 0.44507643161576527, 2.1594520855257797, 0.4819398781958667]\n",
      "test-stat cannot be applied because variances differ: max(v) / min(v) =  4.851867976217703\n",
      "\n",
      "\n"
     ]
    }
   ],
   "source": [
    "vtis = pd.read_csv('VTI.csv', usecols=['Date','Open','High','Low','Close'])\n",
    "vtis['Date'] = vtis['Date'].apply(eval_date)\n",
    "vtis = vtis.iloc[::-1]\n",
    "\n",
    "while list(vtis.head(1)['Date']) != [[2020, 1, 31]]:\n",
    "    vtis = vtis[1:]\n",
    "\n",
    "data = [[], [], [], [], []]\n",
    "\n",
    "# remove weeks with holidays\n",
    "while len(data[0]) < 501:\n",
    "    if is_sequence(list(vtis.head(5)['Date'])):\n",
    "        data = collect_data(data, vtis.head(5).values)\n",
    "        vtis = vtis[5:]\n",
    "    else:\n",
    "        vtis = vtis[1:]\n",
    "        \n",
    "test_many_cases(data)"
   ]
  },
  {
   "cell_type": "markdown",
   "metadata": {},
   "source": [
    "### Motivation:\n",
    "I read books called Sapiens: A Brief History of Humankind, Homo Deus: A Brief History of Tomorrow, and 21 Lessons for the 21st Century all written by the same author, Yuval Noah Harari. In these books, one of the arguments the author makes is that the stock market is the largest and the most complex algorithm humans have invented and I found this idea fascinating and wanted to play with the stock market's data. Also, for my personal finance, I would like to know when I should purchase index funds."
   ]
  }
 ],
 "metadata": {
  "kernelspec": {
   "display_name": "Python 3",
   "language": "python",
   "name": "python3"
  },
  "language_info": {
   "codemirror_mode": {
    "name": "ipython",
    "version": 3
   },
   "file_extension": ".py",
   "mimetype": "text/x-python",
   "name": "python",
   "nbconvert_exporter": "python",
   "pygments_lexer": "ipython3",
   "version": "3.7.3"
  }
 },
 "nbformat": 4,
 "nbformat_minor": 2
}
